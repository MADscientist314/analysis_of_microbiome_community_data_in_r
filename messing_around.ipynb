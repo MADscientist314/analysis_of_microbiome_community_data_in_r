{
  "nbformat": 4,
  "nbformat_minor": 0,
  "metadata": {
    "colab": {
      "name": "Untitled2.ipynb",
      "version": "0.3.2",
      "provenance": [],
      "collapsed_sections": [],
      "include_colab_link": true
    },
    "kernelspec": {
      "name": "python3",
      "display_name": "Python 3"
    }
  },
  "cells": [
    {
      "cell_type": "markdown",
      "metadata": {
        "id": "view-in-github",
        "colab_type": "text"
      },
      "source": [
        "[View in Colaboratory](https://colab.research.google.com/github/MADscientist314/analysis_of_microbiome_community_data_in_r/blob/master/messing_around.ipynb)"
      ]
    },
    {
      "metadata": {
        "id": "zFu_LfI62D9g",
        "colab_type": "code",
        "colab": {}
      },
      "cell_type": "code",
      "source": [
        "#Basic TensorFlow Commands\n"
      ],
      "execution_count": 0,
      "outputs": []
    },
    {
      "metadata": {
        "id": "QkOmxUY03QEM",
        "colab_type": "code",
        "colab": {
          "base_uri": "https://localhost:8080/",
          "height": 35
        },
        "outputId": "553f541a-07a0-4565-c0d6-34636298d894"
      },
      "cell_type": "code",
      "source": [
        "#Loading Packages\n",
        "import numpy as np\n",
        "import tensorflow as tf\n",
        "print (\"Packages Loaded\")"
      ],
      "execution_count": 1,
      "outputs": [
        {
          "output_type": "stream",
          "text": [
            "Packages Loaded\n"
          ],
          "name": "stdout"
        }
      ]
    },
    {
      "metadata": {
        "id": "l-0GtmTg3aLS",
        "colab_type": "code",
        "colab": {
          "base_uri": "https://localhost:8080/",
          "height": 35
        },
        "outputId": "9e90ad70-c790-4bd0-ecbb-b79871cc7cbf"
      },
      "cell_type": "code",
      "source": [
        "sess=tf.Session()\n",
        "print(\"TensorFlow activated\")"
      ],
      "execution_count": 2,
      "outputs": [
        {
          "output_type": "stream",
          "text": [
            "TensorFlow activated\n"
          ],
          "name": "stdout"
        }
      ]
    },
    {
      "metadata": {
        "id": "zOodPAaU3g0p",
        "colab_type": "code",
        "colab": {
          "base_uri": "https://localhost:8080/",
          "height": 87
        },
        "outputId": "7fac15d3-638a-46fc-f222-ffd159473086"
      },
      "cell_type": "code",
      "source": [
        "def print_tf(x):  \n",
        "    print(\"TYPE IS \\n %s\" % (type(x)))\n",
        "    print(\"VALUE IS \\n %s\" % (x))\n",
        "hello = tf. constant(\"Hello. It's Me. \")\n",
        "print_tf(hello)"
      ],
      "execution_count": 3,
      "outputs": [
        {
          "output_type": "stream",
          "text": [
            "TYPE IS \n",
            " <class 'tensorflow.python.framework.ops.Tensor'>\n",
            "VALUE IS \n",
            " Tensor(\"Const:0\", shape=(), dtype=string)\n"
          ],
          "name": "stdout"
        }
      ]
    },
    {
      "metadata": {
        "id": "zuzt6q2W41rQ",
        "colab_type": "code",
        "colab": {
          "base_uri": "https://localhost:8080/",
          "height": 87
        },
        "outputId": "5975c8b0-bb51-435e-bc3f-232d763eaa3b"
      },
      "cell_type": "code",
      "source": [
        "#tf constant\n",
        "hello_out = sess.run(hello)\n",
        "print_tf(hello_out)"
      ],
      "execution_count": 8,
      "outputs": [
        {
          "output_type": "stream",
          "text": [
            "TYPE IS \n",
            " <class 'bytes'>\n",
            "VALUE IS \n",
            " b\"Hello. It's Me. \"\n"
          ],
          "name": "stdout"
        }
      ]
    },
    {
      "metadata": {
        "id": "w1Fku5wr5mcD",
        "colab_type": "code",
        "colab": {
          "base_uri": "https://localhost:8080/",
          "height": 87
        },
        "outputId": "4a1132ea-b4d2-47c6-c76d-fad0fcc50103"
      },
      "cell_type": "code",
      "source": [
        "hello_out = sess.run(hello)\n",
        "print_tf(hello_out)"
      ],
      "execution_count": 9,
      "outputs": [
        {
          "output_type": "stream",
          "text": [
            "TYPE IS \n",
            " <class 'bytes'>\n",
            "VALUE IS \n",
            " b\"Hello. It's Me. \"\n"
          ],
          "name": "stdout"
        }
      ]
    },
    {
      "metadata": {
        "id": "IVkeKCKE57G2",
        "colab_type": "code",
        "colab": {}
      },
      "cell_type": "code",
      "source": [
        ""
      ],
      "execution_count": 0,
      "outputs": []
    }
  ]
}